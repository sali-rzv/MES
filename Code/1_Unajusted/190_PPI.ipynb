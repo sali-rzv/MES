{
 "cells": [
  {
   "cell_type": "code",
   "execution_count": 1,
   "id": "427bcfa3",
   "metadata": {},
   "outputs": [],
   "source": [
    "import pandas as pd\n",
    "import yaml\n",
    "\n",
    "pd.set_option('display.max_columns', None)\n",
    "\n",
    "with open('../../Settings.yaml', 'r') as file:\n",
    "    Setting = yaml.safe_load(file)\n",
    "\n",
    "\n",
    "    \n",
    "file_name = 'PPI.xlsx'\n",
    "file_path = f\"{Setting['Raw_Path']}/{file_name}\"\n",
    "PPI_Dataset = pd.read_excel(file_path, sheet_name=6 ,skiprows=2)\n",
    "PPI_Dataset = PPI_Dataset.iloc[1:,1:]\n",
    "PPI_Dataset.columns.values[0] = 'Industry_Name'\n",
    "New_Row_Value = PPI_Dataset.iloc[0, 1:].tolist()\n",
    "\n",
    "#Adding new row because PPI dataset does not have value for 'تعمير ونصب ماشين آلات' industry \n",
    "#And fullfill it with averge PPI of Whole Industry\n",
    "New_Row = pd.DataFrame([['تعمير ونصب ماشين آلات'] + New_Row_Value], columns=PPI_Dataset.columns)\n",
    "PPI_Dataset = pd.concat([PPI_Dataset, New_Row], ignore_index=True)\n",
    "PPI_Dataset[\"Industry_Code\"] = ['پ'] + list(range(10, 9 + len(PPI_Dataset)))\n",
    "\n",
    "#Reordering columns\n",
    "cols = PPI_Dataset.columns.tolist()\n",
    "cols.remove(\"Industry_Code\")\n",
    "new_order = [\"Industry_Code\"] + cols\n",
    "PPI_Dataset = PPI_Dataset[new_order]\n",
    "PPI_Dataset.drop(columns=['Industry_Name'], inplace=True)"
   ]
  },
  {
   "cell_type": "code",
   "execution_count": 2,
   "id": "1111474c",
   "metadata": {},
   "outputs": [],
   "source": [
    "input_file = f'{Setting['Workshop_Codes']}'\n",
    "Workshop_Codes = pd.read_excel(input_file)\n",
    "Workshop_Codes = Workshop_Codes[Workshop_Codes['Industry_Category_Code'].isin([1,2])]"
   ]
  },
  {
   "cell_type": "code",
   "execution_count": 3,
   "id": "38535b28",
   "metadata": {},
   "outputs": [],
   "source": [
    "PPI_Dataset['Industry_Code'] = PPI_Dataset['Industry_Code'].astype(str)\n",
    "Workshop_Codes['Industry_Code'] = Workshop_Codes['Industry_Code'].astype(str)"
   ]
  },
  {
   "cell_type": "code",
   "execution_count": 4,
   "id": "6b9a4ef2",
   "metadata": {},
   "outputs": [],
   "source": [
    "PPI_Dataset = pd.merge(PPI_Dataset, Workshop_Codes, on='Industry_Code', how='left')\n",
    "cols = list(PPI_Dataset.columns)\n",
    "cols.remove('Industry_Category_Code')\n",
    "cols.remove('Industry_Name')\n",
    "cols.insert(0, 'Industry_Category_Code') \n",
    "cols.insert(2, 'Industry_Name')       \n",
    "PPI_Dataset = PPI_Dataset[cols]"
   ]
  },
  {
   "cell_type": "code",
   "execution_count": 5,
   "id": "f6e9a7b4",
   "metadata": {},
   "outputs": [],
   "source": [
    "#Reshaping Dataset\n",
    "PPI_Dataset = pd.melt(PPI_Dataset, \n",
    "                   id_vars=PPI_Dataset.columns[:3], \n",
    "                   value_vars=PPI_Dataset.columns[3:], \n",
    "                   var_name='Year', \n",
    "                   value_name='Price_Index')\n",
    "\n",
    "#Reordering columns\n",
    "cols = list(PPI_Dataset.columns)\n",
    "cols.remove('Year')\n",
    "cols.insert(0, 'Year')        \n",
    "PPI_Dataset = PPI_Dataset[cols]"
   ]
  },
  {
   "cell_type": "code",
   "execution_count": 6,
   "id": "c5ee2bf9",
   "metadata": {},
   "outputs": [],
   "source": [
    "output_file_name = '002_PPI.xlsx'\n",
    "PPI_Dataset.to_excel(f\"{Setting['Output_Path_General']}/{output_file_name}\", index=False)\n"
   ]
  }
 ],
 "metadata": {
  "kernelspec": {
   "display_name": "py3",
   "language": "python",
   "name": "python3"
  },
  "language_info": {
   "codemirror_mode": {
    "name": "ipython",
    "version": 3
   },
   "file_extension": ".py",
   "mimetype": "text/x-python",
   "name": "python",
   "nbconvert_exporter": "python",
   "pygments_lexer": "ipython3",
   "version": "3.12.4"
  }
 },
 "nbformat": 4,
 "nbformat_minor": 5
}
