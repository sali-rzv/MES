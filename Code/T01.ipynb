{
 "cells": [
  {
   "cell_type": "code",
   "execution_count": 3,
   "id": "fe30dee8",
   "metadata": {},
   "outputs": [],
   "source": [
    "import pandas as pd\n",
    "import numpy as np\n",
    "file_path = '../Data/Y1383_10AndMore.xlsx'\n",
    "T01 = pd.read_excel(file_path, sheet_name='T01', skiprows=1)\n",
    "pd.set_option('display.max_columns', None)\n",
    "\n",
    "T01 = T01.rename(\n",
    "    columns={\n",
    "       'سال':'Year',\n",
    "       'سطح کد فعالیت':'Industry Category Code',\n",
    "       'کد فعالیت':'Industry Code' ,\n",
    "       'تعداد کارگاه\t':'WorkShop Number',\n",
    "        'تعداد شاغلان':'Total Labour Number',\n",
    "        'Unnamed: 6':'Male Labour Number',\n",
    "        'Unnamed: 7':'Female Labour Number'    \n",
    "    }\n",
    ")"
   ]
  }
 ],
 "metadata": {
  "kernelspec": {
   "display_name": "py3",
   "language": "python",
   "name": "python3"
  },
  "language_info": {
   "codemirror_mode": {
    "name": "ipython",
    "version": 3
   },
   "file_extension": ".py",
   "mimetype": "text/x-python",
   "name": "python",
   "nbconvert_exporter": "python",
   "pygments_lexer": "ipython3",
   "version": "3.12.4"
  }
 },
 "nbformat": 4,
 "nbformat_minor": 5
}
